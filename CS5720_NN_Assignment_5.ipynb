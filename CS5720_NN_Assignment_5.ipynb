{
  "cells": [
    {
      "cell_type": "code",
      "execution_count": 1,
      "metadata": {
        "id": "zXtzq2EZztjY"
      },
      "outputs": [],
      "source": [
        "import pandas as pd #Basic packages for creating dataframes and loading dataset\n",
        "import numpy as np\n",
        "\n",
        "import matplotlib.pyplot as plt #Package for visualization\n",
        "\n",
        "import re #importing package for Regular expression operations\n",
        "\n",
        "from sklearn.model_selection import train_test_split #Package for splitting the data\n",
        "\n",
        "from sklearn.preprocessing import LabelEncoder #Package for conversion of categorical to Numerical\n",
        "\n",
        "from keras.preprocessing.text import Tokenizer #Tokenization\n",
        "from tensorflow.keras.preprocessing.sequence import pad_sequences #Add zeros or crop based on the length\n",
        "from keras.models import Sequential #Sequential Neural Network\n",
        "from keras.layers import Dense, Embedding, LSTM, SpatialDropout1D #For layers in Neural Network\n",
        "from keras.utils.np_utils import to_categorical"
      ]
    },
    {
      "cell_type": "code",
      "execution_count": 2,
      "metadata": {
        "colab": {
          "base_uri": "https://localhost:8080/"
        },
        "id": "MwEj3GKu0WRX",
        "outputId": "7f320610-cda6-4868-b76e-dd42859e8f4c"
      },
      "outputs": [
        {
          "output_type": "stream",
          "name": "stdout",
          "text": [
            "Drive already mounted at /content/drive; to attempt to forcibly remount, call drive.mount(\"/content/drive\", force_remount=True).\n"
          ]
        }
      ],
      "source": [
        "from google.colab import drive\n",
        "drive.mount('/content/drive')"
      ]
    },
    {
      "cell_type": "code",
      "execution_count": 3,
      "metadata": {
        "colab": {
          "base_uri": "https://localhost:8080/"
        },
        "id": "gUJEqpIvzuWz",
        "outputId": "f75652c4-c27c-4b6d-8543-f6333b1ddfe7"
      },
      "outputs": [
        {
          "output_type": "stream",
          "name": "stderr",
          "text": [
            "<ipython-input-3-4a1f1d64d4bf>:9: SettingWithCopyWarning: \n",
            "A value is trying to be set on a copy of a slice from a DataFrame.\n",
            "Try using .loc[row_indexer,col_indexer] = value instead\n",
            "\n",
            "See the caveats in the documentation: https://pandas.pydata.org/pandas-docs/stable/user_guide/indexing.html#returning-a-view-versus-a-copy\n",
            "  data['text'] = data['text'].apply(lambda x: x.lower())\n",
            "<ipython-input-3-4a1f1d64d4bf>:10: SettingWithCopyWarning: \n",
            "A value is trying to be set on a copy of a slice from a DataFrame.\n",
            "Try using .loc[row_indexer,col_indexer] = value instead\n",
            "\n",
            "See the caveats in the documentation: https://pandas.pydata.org/pandas-docs/stable/user_guide/indexing.html#returning-a-view-versus-a-copy\n",
            "  data['text'] = data['text'].apply(lambda x: re.sub('[^a-zA-Z0-9\\s]', '', x))\n",
            "<ipython-input-3-4a1f1d64d4bf>:11: SettingWithCopyWarning: \n",
            "A value is trying to be set on a copy of a slice from a DataFrame.\n",
            "Try using .loc[row_indexer,col_indexer] = value instead\n",
            "\n",
            "See the caveats in the documentation: https://pandas.pydata.org/pandas-docs/stable/user_guide/indexing.html#returning-a-view-versus-a-copy\n",
            "  data['text'] = data['text'].apply(lambda x: x.replace('rt', ' '))  # Remove 'rt' (Retweets)\n"
          ]
        }
      ],
      "source": [
        "# Load the dataset as a Pandas DataFrame\n",
        "dataset = pd.read_csv('/content/drive/MyDrive/NeuralNetworks/Sentiment.csv')\n",
        "\n",
        "# Select only the necessary columns 'text' and 'sentiment'\n",
        "mask = dataset.columns.isin(['text', 'sentiment'])\n",
        "data = dataset.loc[:, mask]\n",
        "\n",
        "# Preprocess the text data\n",
        "data['text'] = data['text'].apply(lambda x: x.lower())\n",
        "data['text'] = data['text'].apply(lambda x: re.sub('[^a-zA-Z0-9\\s]', '', x))\n",
        "data['text'] = data['text'].apply(lambda x: x.replace('rt', ' '))  # Remove 'rt' (Retweets)"
      ]
    },
    {
      "cell_type": "code",
      "execution_count": 4,
      "metadata": {
        "id": "Bi5bjOWUzxj7"
      },
      "outputs": [],
      "source": [
        "# Define the function to create the LSTM model\n",
        "def createmodel():\n",
        "    model = Sequential()\n",
        "    model.add(Embedding(max_features, embed_dim, input_length=X.shape[1]))\n",
        "    model.add(LSTM(lstm_out, dropout=0.2, recurrent_dropout=0.2))\n",
        "    model.add(Dense(3, activation='softmax'))\n",
        "    model.compile(loss='categorical_crossentropy', optimizer='adam', metrics=['accuracy'])\n",
        "    return model\n",
        "\n",
        "# Tokenization\n",
        "max_features = 2000\n",
        "tokenizer = Tokenizer(num_words=max_features, split=' ')\n",
        "tokenizer.fit_on_texts(data['text'].values)\n",
        "X = tokenizer.texts_to_sequences(data['text'].values)\n",
        "X = pad_sequences(X)\n",
        "\n",
        "# Label Encoding\n",
        "label_encoder = LabelEncoder()\n",
        "integer_encoded = label_encoder.fit_transform(data['sentiment'])\n",
        "y = to_categorical(integer_encoded)"
      ]
    },
    {
      "cell_type": "code",
      "execution_count": 5,
      "metadata": {
        "id": "U0OID1vM0xNz"
      },
      "outputs": [],
      "source": [
        "X_train, X_test, y_train, y_test = train_test_split(X, y, test_size=0.33, random_state=42)\n"
      ]
    },
    {
      "cell_type": "code",
      "execution_count": 6,
      "metadata": {
        "colab": {
          "base_uri": "https://localhost:8080/"
        },
        "id": "4JD9AyZK0y5o",
        "outputId": "32f369e7-260b-4348-a1db-19407b18184d"
      },
      "outputs": [
        {
          "output_type": "stream",
          "name": "stderr",
          "text": [
            "WARNING:tensorflow:Layer lstm will not use cuDNN kernels since it doesn't meet the criteria. It will use a generic GPU kernel as fallback when running on GPU.\n"
          ]
        },
        {
          "output_type": "stream",
          "name": "stdout",
          "text": [
            "Model: \"sequential\"\n",
            "_________________________________________________________________\n",
            " Layer (type)                Output Shape              Param #   \n",
            "=================================================================\n",
            " embedding (Embedding)       (None, 28, 128)           256000    \n",
            "                                                                 \n",
            " lstm (LSTM)                 (None, 196)               254800    \n",
            "                                                                 \n",
            " dense (Dense)               (None, 3)                 591       \n",
            "                                                                 \n",
            "=================================================================\n",
            "Total params: 511,391\n",
            "Trainable params: 511,391\n",
            "Non-trainable params: 0\n",
            "_________________________________________________________________\n",
            "None\n",
            "Epoch 1/10\n",
            "291/291 - 65s - loss: 0.8270 - accuracy: 0.6434 - val_loss: 0.7550 - val_accuracy: 0.6785 - 65s/epoch - 222ms/step\n",
            "Epoch 2/10\n",
            "291/291 - 43s - loss: 0.6763 - accuracy: 0.7080 - val_loss: 0.7555 - val_accuracy: 0.6765 - 43s/epoch - 149ms/step\n",
            "Epoch 3/10\n",
            "291/291 - 40s - loss: 0.6189 - accuracy: 0.7391 - val_loss: 0.7605 - val_accuracy: 0.6669 - 40s/epoch - 138ms/step\n",
            "Epoch 4/10\n",
            "291/291 - 41s - loss: 0.5684 - accuracy: 0.7625 - val_loss: 0.7813 - val_accuracy: 0.6793 - 41s/epoch - 142ms/step\n",
            "Epoch 5/10\n",
            "291/291 - 40s - loss: 0.5303 - accuracy: 0.7799 - val_loss: 0.8179 - val_accuracy: 0.6785 - 40s/epoch - 137ms/step\n",
            "Epoch 6/10\n",
            "291/291 - 39s - loss: 0.4876 - accuracy: 0.7969 - val_loss: 0.8529 - val_accuracy: 0.6743 - 39s/epoch - 136ms/step\n",
            "Epoch 7/10\n",
            "291/291 - 40s - loss: 0.4479 - accuracy: 0.8157 - val_loss: 0.8939 - val_accuracy: 0.6597 - 40s/epoch - 136ms/step\n",
            "Epoch 8/10\n",
            "291/291 - 38s - loss: 0.4149 - accuracy: 0.8325 - val_loss: 1.0094 - val_accuracy: 0.6597 - 38s/epoch - 132ms/step\n",
            "Epoch 9/10\n",
            "291/291 - 39s - loss: 0.3936 - accuracy: 0.8411 - val_loss: 1.0615 - val_accuracy: 0.6527 - 39s/epoch - 133ms/step\n",
            "Epoch 10/10\n",
            "291/291 - 37s - loss: 0.3635 - accuracy: 0.8519 - val_loss: 1.2004 - val_accuracy: 0.6566 - 37s/epoch - 128ms/step\n"
          ]
        }
      ],
      "source": [
        "# LSTM Model Architecture\n",
        "embed_dim = 128\n",
        "lstm_out = 196\n",
        "\n",
        "model = Sequential()\n",
        "model.add(Embedding(max_features, embed_dim, input_length=X.shape[1]))\n",
        "model.add(LSTM(lstm_out, dropout=0.2, recurrent_dropout=0.2))\n",
        "model.add(Dense(3, activation='softmax'))\n",
        "model.compile(loss='categorical_crossentropy', optimizer='adam', metrics=['accuracy'])\n",
        "\n",
        "# Model Summary\n",
        "print(model.summary())\n",
        "\n",
        "# Train the model\n",
        "history = model.fit(X_train, y_train, epochs=10, batch_size=32, validation_data=(X_test, y_test), verbose=2)"
      ]
    },
    {
      "cell_type": "code",
      "execution_count": 7,
      "metadata": {
        "id": "RtKfLHIg01Xb",
        "colab": {
          "base_uri": "https://localhost:8080/"
        },
        "outputId": "975e5310-2c50-4280-daf1-862029df655e"
      },
      "outputs": [
        {
          "output_type": "stream",
          "name": "stdout",
          "text": [
            "144/144 - 1s - loss: 1.2004 - accuracy: 0.6566 - 1s/epoch - 9ms/step\n",
            "Test Loss: 1.2003941535949707\n",
            "Test Accuracy: 0.656618595123291\n"
          ]
        }
      ],
      "source": [
        "# Evaluate the model on test data\n",
        "score, accuracy = model.evaluate(X_test, y_test, verbose=2, batch_size=32)\n",
        "print(\"Test Loss:\", score)\n",
        "print(\"Test Accuracy:\", accuracy)"
      ]
    },
    {
      "cell_type": "code",
      "execution_count": 8,
      "metadata": {
        "id": "lRznCISO038Q"
      },
      "outputs": [],
      "source": [
        "# Save the trained model\n",
        "model.save('sentimentAnalysis.h5')"
      ]
    },
    {
      "cell_type": "code",
      "execution_count": 9,
      "metadata": {
        "id": "VrC7rSw1051Z",
        "colab": {
          "base_uri": "https://localhost:8080/"
        },
        "outputId": "af15ded2-63b7-4ee6-f6ea-e636dd76d612"
      },
      "outputs": [
        {
          "output_type": "stream",
          "name": "stderr",
          "text": [
            "WARNING:tensorflow:Layer lstm will not use cuDNN kernels since it doesn't meet the criteria. It will use a generic GPU kernel as fallback when running on GPU.\n"
          ]
        }
      ],
      "source": [
        "from keras.models import load_model\n",
        "\n",
        "model = load_model('sentimentAnalysis.h5')"
      ]
    },
    {
      "cell_type": "code",
      "execution_count": 10,
      "metadata": {
        "id": "lyMklXmK07kL"
      },
      "outputs": [],
      "source": [
        "# Define the text data to predict sentiment\n",
        "sentence = ['A lot of good things are happening. We are respected again throughout the world, and that is a great thing. @realDonaldTrump']\n",
        "\n",
        "# Tokenize and pad the sentence\n",
        "sentence = tokenizer.texts_to_sequences(sentence)\n",
        "sentence = pad_sequences(sentence, maxlen=28, dtype='int32', value=0)"
      ]
    },
    {
      "cell_type": "code",
      "execution_count": 11,
      "metadata": {
        "id": "oOYu78fK1Gk7",
        "colab": {
          "base_uri": "https://localhost:8080/"
        },
        "outputId": "f5c9fb03-8705-4721-fe56-2e6ff18a1449"
      },
      "outputs": [
        {
          "output_type": "stream",
          "name": "stdout",
          "text": [
            "1/1 - 0s - 371ms/epoch - 371ms/step\n",
            "Positive\n"
          ]
        }
      ],
      "source": [
        "# Make predictions using the loaded model\n",
        "sentiment_probs = model.predict(sentence, batch_size=1, verbose=2)[0]\n",
        "\n",
        "# Convert sentiment probabilities to sentiment label\n",
        "sentiment = np.argmax(sentiment_probs)\n",
        "\n",
        "# Print the sentiment label\n",
        "if sentiment == 0:\n",
        "    print(\"Neutral\")\n",
        "elif sentiment < 0:\n",
        "    print(\"Negative\")\n",
        "elif sentiment > 0:\n",
        "    print(\"Positive\")\n",
        "else:\n",
        "    print(\"Cannot be determined\")"
      ]
    },
    {
      "cell_type": "code",
      "execution_count": 12,
      "metadata": {
        "id": "35cRgO3-1IIE"
      },
      "outputs": [],
      "source": [
        "from keras.wrappers.scikit_learn import KerasClassifier #importing Keras classifier\n",
        "from sklearn.model_selection import GridSearchCV #importing Grid search CV"
      ]
    },
    {
      "cell_type": "code",
      "execution_count": 13,
      "metadata": {
        "id": "nLr4lExV1Jvx",
        "colab": {
          "base_uri": "https://localhost:8080/"
        },
        "outputId": "7c60dedf-8882-4c0d-c833-8f2309f04697"
      },
      "outputs": [
        {
          "output_type": "stream",
          "name": "stderr",
          "text": [
            "<ipython-input-13-487242306e07>:2: DeprecationWarning: KerasClassifier is deprecated, use Sci-Keras (https://github.com/adriangb/scikeras) instead. See https://www.adriangb.com/scikeras/stable/migration.html for help migrating.\n",
            "  model = KerasClassifier(build_fn=createmodel, verbose=2)\n",
            "WARNING:tensorflow:Layer lstm_1 will not use cuDNN kernels since it doesn't meet the criteria. It will use a generic GPU kernel as fallback when running on GPU.\n"
          ]
        },
        {
          "output_type": "stream",
          "name": "stdout",
          "text": [
            "744/744 - 112s - loss: 0.8278 - accuracy: 0.6445 - 112s/epoch - 150ms/step\n",
            "186/186 - 3s - loss: 0.7598 - accuracy: 0.6719 - 3s/epoch - 18ms/step\n"
          ]
        },
        {
          "output_type": "stream",
          "name": "stderr",
          "text": [
            "WARNING:tensorflow:Layer lstm_2 will not use cuDNN kernels since it doesn't meet the criteria. It will use a generic GPU kernel as fallback when running on GPU.\n"
          ]
        },
        {
          "output_type": "stream",
          "name": "stdout",
          "text": [
            "744/744 - 110s - loss: 0.8188 - accuracy: 0.6520 - 110s/epoch - 148ms/step\n",
            "186/186 - 2s - loss: 0.7560 - accuracy: 0.6729 - 2s/epoch - 13ms/step\n"
          ]
        },
        {
          "output_type": "stream",
          "name": "stderr",
          "text": [
            "WARNING:tensorflow:Layer lstm_3 will not use cuDNN kernels since it doesn't meet the criteria. It will use a generic GPU kernel as fallback when running on GPU.\n"
          ]
        },
        {
          "output_type": "stream",
          "name": "stdout",
          "text": [
            "744/744 - 110s - loss: 0.8271 - accuracy: 0.6408 - 110s/epoch - 148ms/step\n",
            "186/186 - 2s - loss: 0.7507 - accuracy: 0.6837 - 2s/epoch - 11ms/step\n"
          ]
        },
        {
          "output_type": "stream",
          "name": "stderr",
          "text": [
            "WARNING:tensorflow:Layer lstm_4 will not use cuDNN kernels since it doesn't meet the criteria. It will use a generic GPU kernel as fallback when running on GPU.\n"
          ]
        },
        {
          "output_type": "stream",
          "name": "stdout",
          "text": [
            "744/744 - 109s - loss: 0.8228 - accuracy: 0.6500 - 109s/epoch - 147ms/step\n",
            "186/186 - 3s - loss: 0.7634 - accuracy: 0.6631 - 3s/epoch - 16ms/step\n"
          ]
        },
        {
          "output_type": "stream",
          "name": "stderr",
          "text": [
            "WARNING:tensorflow:Layer lstm_5 will not use cuDNN kernels since it doesn't meet the criteria. It will use a generic GPU kernel as fallback when running on GPU.\n"
          ]
        },
        {
          "output_type": "stream",
          "name": "stdout",
          "text": [
            "744/744 - 110s - loss: 0.8181 - accuracy: 0.6487 - 110s/epoch - 148ms/step\n",
            "186/186 - 2s - loss: 0.7810 - accuracy: 0.6593 - 2s/epoch - 12ms/step\n"
          ]
        },
        {
          "output_type": "stream",
          "name": "stderr",
          "text": [
            "WARNING:tensorflow:Layer lstm_6 will not use cuDNN kernels since it doesn't meet the criteria. It will use a generic GPU kernel as fallback when running on GPU.\n"
          ]
        },
        {
          "output_type": "stream",
          "name": "stdout",
          "text": [
            "Epoch 1/2\n",
            "744/744 - 110s - loss: 0.8334 - accuracy: 0.6419 - 110s/epoch - 148ms/step\n",
            "Epoch 2/2\n",
            "744/744 - 98s - loss: 0.6836 - accuracy: 0.7140 - 98s/epoch - 131ms/step\n",
            "186/186 - 2s - loss: 0.7312 - accuracy: 0.6815 - 2s/epoch - 11ms/step\n"
          ]
        },
        {
          "output_type": "stream",
          "name": "stderr",
          "text": [
            "WARNING:tensorflow:Layer lstm_7 will not use cuDNN kernels since it doesn't meet the criteria. It will use a generic GPU kernel as fallback when running on GPU.\n"
          ]
        },
        {
          "output_type": "stream",
          "name": "stdout",
          "text": [
            "Epoch 1/2\n",
            "744/744 - 109s - loss: 0.8209 - accuracy: 0.6458 - 109s/epoch - 147ms/step\n",
            "Epoch 2/2\n",
            "744/744 - 99s - loss: 0.6799 - accuracy: 0.7124 - 99s/epoch - 134ms/step\n",
            "186/186 - 2s - loss: 0.7370 - accuracy: 0.6767 - 2s/epoch - 12ms/step\n"
          ]
        },
        {
          "output_type": "stream",
          "name": "stderr",
          "text": [
            "WARNING:tensorflow:Layer lstm_8 will not use cuDNN kernels since it doesn't meet the criteria. It will use a generic GPU kernel as fallback when running on GPU.\n"
          ]
        },
        {
          "output_type": "stream",
          "name": "stdout",
          "text": [
            "Epoch 1/2\n",
            "744/744 - 109s - loss: 0.8195 - accuracy: 0.6494 - 109s/epoch - 147ms/step\n",
            "Epoch 2/2\n",
            "744/744 - 99s - loss: 0.6848 - accuracy: 0.7171 - 99s/epoch - 133ms/step\n",
            "186/186 - 3s - loss: 0.7496 - accuracy: 0.6719 - 3s/epoch - 15ms/step\n"
          ]
        },
        {
          "output_type": "stream",
          "name": "stderr",
          "text": [
            "WARNING:tensorflow:Layer lstm_9 will not use cuDNN kernels since it doesn't meet the criteria. It will use a generic GPU kernel as fallback when running on GPU.\n"
          ]
        },
        {
          "output_type": "stream",
          "name": "stdout",
          "text": [
            "Epoch 1/2\n",
            "744/744 - 109s - loss: 0.8248 - accuracy: 0.6429 - 109s/epoch - 146ms/step\n",
            "Epoch 2/2\n",
            "744/744 - 97s - loss: 0.6748 - accuracy: 0.7122 - 97s/epoch - 130ms/step\n",
            "186/186 - 3s - loss: 0.7542 - accuracy: 0.6701 - 3s/epoch - 15ms/step\n"
          ]
        },
        {
          "output_type": "stream",
          "name": "stderr",
          "text": [
            "WARNING:tensorflow:Layer lstm_10 will not use cuDNN kernels since it doesn't meet the criteria. It will use a generic GPU kernel as fallback when running on GPU.\n"
          ]
        },
        {
          "output_type": "stream",
          "name": "stdout",
          "text": [
            "Epoch 1/2\n",
            "744/744 - 111s - loss: 0.8216 - accuracy: 0.6455 - 111s/epoch - 149ms/step\n",
            "Epoch 2/2\n",
            "744/744 - 98s - loss: 0.6717 - accuracy: 0.7161 - 98s/epoch - 132ms/step\n",
            "186/186 - 2s - loss: 0.7751 - accuracy: 0.6679 - 2s/epoch - 12ms/step\n"
          ]
        },
        {
          "output_type": "stream",
          "name": "stderr",
          "text": [
            "WARNING:tensorflow:Layer lstm_11 will not use cuDNN kernels since it doesn't meet the criteria. It will use a generic GPU kernel as fallback when running on GPU.\n"
          ]
        },
        {
          "output_type": "stream",
          "name": "stdout",
          "text": [
            "372/372 - 63s - loss: 0.8370 - accuracy: 0.6447 - 63s/epoch - 170ms/step\n",
            "93/93 - 1s - loss: 0.7706 - accuracy: 0.6670 - 1s/epoch - 14ms/step\n"
          ]
        },
        {
          "output_type": "stream",
          "name": "stderr",
          "text": [
            "WARNING:tensorflow:Layer lstm_12 will not use cuDNN kernels since it doesn't meet the criteria. It will use a generic GPU kernel as fallback when running on GPU.\n"
          ]
        },
        {
          "output_type": "stream",
          "name": "stdout",
          "text": [
            "372/372 - 61s - loss: 0.8292 - accuracy: 0.6461 - 61s/epoch - 164ms/step\n",
            "93/93 - 1s - loss: 0.7923 - accuracy: 0.6676 - 1s/epoch - 12ms/step\n"
          ]
        },
        {
          "output_type": "stream",
          "name": "stderr",
          "text": [
            "WARNING:tensorflow:Layer lstm_13 will not use cuDNN kernels since it doesn't meet the criteria. It will use a generic GPU kernel as fallback when running on GPU.\n"
          ]
        },
        {
          "output_type": "stream",
          "name": "stdout",
          "text": [
            "372/372 - 62s - loss: 0.8270 - accuracy: 0.6472 - 62s/epoch - 167ms/step\n",
            "93/93 - 1s - loss: 0.7386 - accuracy: 0.6864 - 1s/epoch - 13ms/step\n"
          ]
        },
        {
          "output_type": "stream",
          "name": "stderr",
          "text": [
            "WARNING:tensorflow:Layer lstm_14 will not use cuDNN kernels since it doesn't meet the criteria. It will use a generic GPU kernel as fallback when running on GPU.\n"
          ]
        },
        {
          "output_type": "stream",
          "name": "stdout",
          "text": [
            "372/372 - 60s - loss: 0.8251 - accuracy: 0.6455 - 60s/epoch - 160ms/step\n",
            "93/93 - 1s - loss: 0.7455 - accuracy: 0.6695 - 1s/epoch - 12ms/step\n"
          ]
        },
        {
          "output_type": "stream",
          "name": "stderr",
          "text": [
            "WARNING:tensorflow:Layer lstm_15 will not use cuDNN kernels since it doesn't meet the criteria. It will use a generic GPU kernel as fallback when running on GPU.\n"
          ]
        },
        {
          "output_type": "stream",
          "name": "stdout",
          "text": [
            "372/372 - 61s - loss: 0.8258 - accuracy: 0.6473 - 61s/epoch - 164ms/step\n",
            "93/93 - 1s - loss: 0.7781 - accuracy: 0.6668 - 1s/epoch - 12ms/step\n"
          ]
        },
        {
          "output_type": "stream",
          "name": "stderr",
          "text": [
            "WARNING:tensorflow:Layer lstm_16 will not use cuDNN kernels since it doesn't meet the criteria. It will use a generic GPU kernel as fallback when running on GPU.\n"
          ]
        },
        {
          "output_type": "stream",
          "name": "stdout",
          "text": [
            "Epoch 1/2\n",
            "372/372 - 60s - loss: 0.8302 - accuracy: 0.6427 - 60s/epoch - 162ms/step\n",
            "Epoch 2/2\n",
            "372/372 - 49s - loss: 0.6872 - accuracy: 0.7090 - 49s/epoch - 131ms/step\n",
            "93/93 - 1s - loss: 0.7438 - accuracy: 0.6789 - 1s/epoch - 12ms/step\n"
          ]
        },
        {
          "output_type": "stream",
          "name": "stderr",
          "text": [
            "WARNING:tensorflow:Layer lstm_17 will not use cuDNN kernels since it doesn't meet the criteria. It will use a generic GPU kernel as fallback when running on GPU.\n"
          ]
        },
        {
          "output_type": "stream",
          "name": "stdout",
          "text": [
            "Epoch 1/2\n",
            "372/372 - 62s - loss: 0.8285 - accuracy: 0.6447 - 62s/epoch - 168ms/step\n",
            "Epoch 2/2\n",
            "372/372 - 49s - loss: 0.6818 - accuracy: 0.7080 - 49s/epoch - 132ms/step\n",
            "93/93 - 1s - loss: 0.7383 - accuracy: 0.6799 - 1s/epoch - 12ms/step\n"
          ]
        },
        {
          "output_type": "stream",
          "name": "stderr",
          "text": [
            "WARNING:tensorflow:Layer lstm_18 will not use cuDNN kernels since it doesn't meet the criteria. It will use a generic GPU kernel as fallback when running on GPU.\n"
          ]
        },
        {
          "output_type": "stream",
          "name": "stdout",
          "text": [
            "Epoch 1/2\n",
            "372/372 - 62s - loss: 0.8335 - accuracy: 0.6404 - 62s/epoch - 165ms/step\n",
            "Epoch 2/2\n",
            "372/372 - 48s - loss: 0.6830 - accuracy: 0.7096 - 48s/epoch - 129ms/step\n",
            "93/93 - 1s - loss: 0.7452 - accuracy: 0.6799 - 1s/epoch - 12ms/step\n"
          ]
        },
        {
          "output_type": "stream",
          "name": "stderr",
          "text": [
            "WARNING:tensorflow:Layer lstm_19 will not use cuDNN kernels since it doesn't meet the criteria. It will use a generic GPU kernel as fallback when running on GPU.\n"
          ]
        },
        {
          "output_type": "stream",
          "name": "stdout",
          "text": [
            "Epoch 1/2\n",
            "372/372 - 60s - loss: 0.8355 - accuracy: 0.6440 - 60s/epoch - 162ms/step\n",
            "Epoch 2/2\n",
            "372/372 - 48s - loss: 0.6774 - accuracy: 0.7123 - 48s/epoch - 128ms/step\n",
            "93/93 - 2s - loss: 0.7564 - accuracy: 0.6733 - 2s/epoch - 18ms/step\n"
          ]
        },
        {
          "output_type": "stream",
          "name": "stderr",
          "text": [
            "WARNING:tensorflow:Layer lstm_20 will not use cuDNN kernels since it doesn't meet the criteria. It will use a generic GPU kernel as fallback when running on GPU.\n"
          ]
        },
        {
          "output_type": "stream",
          "name": "stdout",
          "text": [
            "Epoch 1/2\n",
            "372/372 - 61s - loss: 0.8315 - accuracy: 0.6464 - 61s/epoch - 165ms/step\n",
            "Epoch 2/2\n",
            "372/372 - 51s - loss: 0.6713 - accuracy: 0.7138 - 51s/epoch - 137ms/step\n",
            "93/93 - 1s - loss: 0.8014 - accuracy: 0.6346 - 1s/epoch - 12ms/step\n"
          ]
        },
        {
          "output_type": "stream",
          "name": "stderr",
          "text": [
            "WARNING:tensorflow:Layer lstm_21 will not use cuDNN kernels since it doesn't meet the criteria. It will use a generic GPU kernel as fallback when running on GPU.\n"
          ]
        },
        {
          "output_type": "stream",
          "name": "stdout",
          "text": [
            "186/186 - 39s - loss: 0.8489 - accuracy: 0.6369 - 39s/epoch - 211ms/step\n",
            "47/47 - 1s - loss: 0.7859 - accuracy: 0.6665 - 763ms/epoch - 16ms/step\n"
          ]
        },
        {
          "output_type": "stream",
          "name": "stderr",
          "text": [
            "WARNING:tensorflow:Layer lstm_22 will not use cuDNN kernels since it doesn't meet the criteria. It will use a generic GPU kernel as fallback when running on GPU.\n"
          ]
        },
        {
          "output_type": "stream",
          "name": "stdout",
          "text": [
            "186/186 - 38s - loss: 0.8398 - accuracy: 0.6386 - 38s/epoch - 204ms/step\n",
            "47/47 - 1s - loss: 0.7717 - accuracy: 0.6638 - 733ms/epoch - 16ms/step\n"
          ]
        },
        {
          "output_type": "stream",
          "name": "stderr",
          "text": [
            "WARNING:tensorflow:Layer lstm_23 will not use cuDNN kernels since it doesn't meet the criteria. It will use a generic GPU kernel as fallback when running on GPU.\n"
          ]
        },
        {
          "output_type": "stream",
          "name": "stdout",
          "text": [
            "186/186 - 39s - loss: 0.8490 - accuracy: 0.6312 - 39s/epoch - 209ms/step\n",
            "47/47 - 1s - loss: 0.8001 - accuracy: 0.6740 - 765ms/epoch - 16ms/step\n"
          ]
        },
        {
          "output_type": "stream",
          "name": "stderr",
          "text": [
            "WARNING:tensorflow:Layer lstm_24 will not use cuDNN kernels since it doesn't meet the criteria. It will use a generic GPU kernel as fallback when running on GPU.\n"
          ]
        },
        {
          "output_type": "stream",
          "name": "stdout",
          "text": [
            "186/186 - 39s - loss: 0.8565 - accuracy: 0.6328 - 39s/epoch - 211ms/step\n",
            "47/47 - 1s - loss: 0.7558 - accuracy: 0.6830 - 748ms/epoch - 16ms/step\n"
          ]
        },
        {
          "output_type": "stream",
          "name": "stderr",
          "text": [
            "WARNING:tensorflow:Layer lstm_25 will not use cuDNN kernels since it doesn't meet the criteria. It will use a generic GPU kernel as fallback when running on GPU.\n"
          ]
        },
        {
          "output_type": "stream",
          "name": "stdout",
          "text": [
            "186/186 - 36s - loss: 0.8379 - accuracy: 0.6350 - 36s/epoch - 194ms/step\n",
            "47/47 - 1s - loss: 0.7688 - accuracy: 0.6738 - 722ms/epoch - 15ms/step\n"
          ]
        },
        {
          "output_type": "stream",
          "name": "stderr",
          "text": [
            "WARNING:tensorflow:Layer lstm_26 will not use cuDNN kernels since it doesn't meet the criteria. It will use a generic GPU kernel as fallback when running on GPU.\n"
          ]
        },
        {
          "output_type": "stream",
          "name": "stdout",
          "text": [
            "Epoch 1/2\n",
            "186/186 - 37s - loss: 0.8455 - accuracy: 0.6359 - 37s/epoch - 196ms/step\n",
            "Epoch 2/2\n",
            "186/186 - 24s - loss: 0.6926 - accuracy: 0.7035 - 24s/epoch - 131ms/step\n",
            "47/47 - 1s - loss: 0.7790 - accuracy: 0.6735 - 726ms/epoch - 15ms/step\n"
          ]
        },
        {
          "output_type": "stream",
          "name": "stderr",
          "text": [
            "WARNING:tensorflow:Layer lstm_27 will not use cuDNN kernels since it doesn't meet the criteria. It will use a generic GPU kernel as fallback when running on GPU.\n"
          ]
        },
        {
          "output_type": "stream",
          "name": "stdout",
          "text": [
            "Epoch 1/2\n",
            "186/186 - 36s - loss: 0.8493 - accuracy: 0.6363 - 36s/epoch - 196ms/step\n",
            "Epoch 2/2\n",
            "186/186 - 27s - loss: 0.6908 - accuracy: 0.7078 - 27s/epoch - 145ms/step\n",
            "47/47 - 1s - loss: 0.7395 - accuracy: 0.6778 - 739ms/epoch - 16ms/step\n"
          ]
        },
        {
          "output_type": "stream",
          "name": "stderr",
          "text": [
            "WARNING:tensorflow:Layer lstm_28 will not use cuDNN kernels since it doesn't meet the criteria. It will use a generic GPU kernel as fallback when running on GPU.\n"
          ]
        },
        {
          "output_type": "stream",
          "name": "stdout",
          "text": [
            "Epoch 1/2\n",
            "186/186 - 37s - loss: 0.8498 - accuracy: 0.6297 - 37s/epoch - 198ms/step\n",
            "Epoch 2/2\n",
            "186/186 - 26s - loss: 0.6849 - accuracy: 0.7061 - 26s/epoch - 141ms/step\n",
            "47/47 - 1s - loss: 0.7566 - accuracy: 0.6810 - 724ms/epoch - 15ms/step\n"
          ]
        },
        {
          "output_type": "stream",
          "name": "stderr",
          "text": [
            "WARNING:tensorflow:Layer lstm_29 will not use cuDNN kernels since it doesn't meet the criteria. It will use a generic GPU kernel as fallback when running on GPU.\n"
          ]
        },
        {
          "output_type": "stream",
          "name": "stdout",
          "text": [
            "Epoch 1/2\n",
            "186/186 - 38s - loss: 0.8472 - accuracy: 0.6334 - 38s/epoch - 206ms/step\n",
            "Epoch 2/2\n",
            "186/186 - 24s - loss: 0.6830 - accuracy: 0.7081 - 24s/epoch - 131ms/step\n",
            "47/47 - 1s - loss: 0.7539 - accuracy: 0.6825 - 1s/epoch - 22ms/step\n"
          ]
        },
        {
          "output_type": "stream",
          "name": "stderr",
          "text": [
            "WARNING:tensorflow:Layer lstm_30 will not use cuDNN kernels since it doesn't meet the criteria. It will use a generic GPU kernel as fallback when running on GPU.\n"
          ]
        },
        {
          "output_type": "stream",
          "name": "stdout",
          "text": [
            "Epoch 1/2\n",
            "186/186 - 37s - loss: 0.8542 - accuracy: 0.6328 - 37s/epoch - 199ms/step\n",
            "Epoch 2/2\n",
            "186/186 - 25s - loss: 0.6804 - accuracy: 0.7091 - 25s/epoch - 134ms/step\n",
            "47/47 - 1s - loss: 0.7755 - accuracy: 0.6642 - 746ms/epoch - 16ms/step\n"
          ]
        },
        {
          "output_type": "stream",
          "name": "stderr",
          "text": [
            "WARNING:tensorflow:Layer lstm_31 will not use cuDNN kernels since it doesn't meet the criteria. It will use a generic GPU kernel as fallback when running on GPU.\n"
          ]
        },
        {
          "output_type": "stream",
          "name": "stdout",
          "text": [
            "Epoch 1/2\n",
            "233/233 - 43s - loss: 0.8382 - accuracy: 0.6407 - 43s/epoch - 184ms/step\n",
            "Epoch 2/2\n",
            "233/233 - 33s - loss: 0.6868 - accuracy: 0.7063 - 33s/epoch - 143ms/step\n",
            "Best Score: 0.675777 using {'batch_size': 40, 'epochs': 2}\n"
          ]
        }
      ],
      "source": [
        "\n",
        "# Now you can proceed with the GridSearchCV\n",
        "model = KerasClassifier(build_fn=createmodel, verbose=2)\n",
        "batch_size = [10, 20, 40]\n",
        "epochs = [1, 2]\n",
        "param_grid = {'batch_size': batch_size, 'epochs': epochs}\n",
        "grid = GridSearchCV(estimator=model, param_grid=param_grid)\n",
        "grid_result = grid.fit(X_train, y_train)\n",
        "\n",
        "\n",
        "# Print the best score and best hyperparameters found by GridSearchCV\n",
        "print(\"Best Score: %f using %s\" % (grid_result.best_score_, grid_result.best_params_))"
      ]
    },
    {
      "cell_type": "code",
      "execution_count": 13,
      "metadata": {
        "id": "-yRkzwlZ1QlK"
      },
      "outputs": [],
      "source": []
    },
    {
      "cell_type": "code",
      "execution_count": 13,
      "metadata": {
        "id": "rQxGK0WY1Q6o"
      },
      "outputs": [],
      "source": []
    }
  ],
  "metadata": {
    "colab": {
      "provenance": [],
      "gpuType": "T4"
    },
    "kernelspec": {
      "display_name": "Python 3",
      "name": "python3"
    },
    "language_info": {
      "name": "python"
    },
    "accelerator": "GPU"
  },
  "nbformat": 4,
  "nbformat_minor": 0
}